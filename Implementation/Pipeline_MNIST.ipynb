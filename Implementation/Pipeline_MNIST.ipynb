{
  "nbformat": 4,
  "nbformat_minor": 0,
  "metadata": {
    "colab": {
      "name": "Pipeline-MNIST.ipynb",
      "provenance": [],
      "collapsed_sections": []
    },
    "kernelspec": {
      "name": "python3",
      "display_name": "Python 3"
    },
    "accelerator": "GPU"
  },
  "cells": [
    {
      "cell_type": "code",
      "metadata": {
        "id": "q1eE2EMHAU7p",
        "colab_type": "code",
        "colab": {
          "base_uri": "https://localhost:8080/",
          "height": 34
        },
        "outputId": "b5d14ac2-6525-418e-a218-09e9ffc42a5c"
      },
      "source": [
        "import numpy as np\n",
        "import pandas as pd\n",
        "import os \n",
        "import pickle\n",
        "import keras \n",
        "from keras.datasets import cifar10, mnist\n",
        "import numpy as np\n",
        "import cv2\n",
        "from matplotlib import pyplot as plt\n",
        "from tensorflow.keras.models import Sequential \n",
        "from tensorflow.keras.layers import Dense, Conv2D, Flatten, MaxPooling2D, BatchNormalization, Conv1D, Conv3D, Input, Activation, Subtract, MaxPool2D, UpSampling2D\n",
        "import tensorflow\n",
        "from tensorflow.keras import Model\n",
        "from tensorflow.keras.callbacks import EarlyStopping, ModelCheckpoint\n",
        "from math import log10, sqrt \n",
        "from keras.utils.np_utils import to_categorical  "
      ],
      "execution_count": null,
      "outputs": [
        {
          "output_type": "stream",
          "text": [
            "Using TensorFlow backend.\n"
          ],
          "name": "stderr"
        }
      ]
    },
    {
      "cell_type": "code",
      "metadata": {
        "id": "UQAq0sDBEXgf",
        "colab_type": "code",
        "colab": {
          "base_uri": "https://localhost:8080/",
          "height": 51
        },
        "outputId": "37e1bfa5-2335-4e5b-cffc-067a8b3c9825"
      },
      "source": [
        "#import datasets needed\n",
        "\n",
        "(train_images_raw,train_label),(test_images_raw,test_label)=mnist.load_data()"
      ],
      "execution_count": null,
      "outputs": [
        {
          "output_type": "stream",
          "text": [
            "Downloading data from https://s3.amazonaws.com/img-datasets/mnist.npz\n",
            "11493376/11490434 [==============================] - 1s 0us/step\n"
          ],
          "name": "stdout"
        }
      ]
    },
    {
      "cell_type": "code",
      "metadata": {
        "id": "6IcDeMn5EbSZ",
        "colab_type": "code",
        "colab": {}
      },
      "source": [
        "#convert labels into one-hot-encoded vectors\n",
        "def label_vectors():\n",
        "  train_labels=to_categorical(train_label,num_classes=10)\n",
        "  test_labels=to_categorical(test_label, num_classes=10)\n",
        "  return train_labels, test_labels\n"
      ],
      "execution_count": null,
      "outputs": []
    },
    {
      "cell_type": "code",
      "metadata": {
        "id": "PT5LlDS1G1p7",
        "colab_type": "code",
        "colab": {}
      },
      "source": [
        "def create_image_arrays(train_images,test_images):\n",
        "  test_images = test_images.astype('float32') / 255.0\n",
        "  train_images= train_images.astype('float32') / 255.0\n",
        "\n",
        "  train_images_expanded = np.expand_dims(train_images, axis=3)\n",
        "  test_images_expanded = np.expand_dims(test_images, axis=3)  \n",
        "  noisy_train_images=add_gauss(train_images_expanded)\n",
        "  noisy_test_images=add_gauss(test_images_expanded)\n",
        "\n",
        "  return train_images_expanded,test_images_expanded,noisy_train_images,noisy_test_images"
      ],
      "execution_count": null,
      "outputs": []
    },
    {
      "cell_type": "code",
      "metadata": {
        "id": "ob3Yj-OGElj4",
        "colab_type": "code",
        "colab": {}
      },
      "source": [
        "#function to add noise\n",
        "def add_gauss(img):\n",
        "  noise_added_images=[]\n",
        "  for i in range(len(img)):\n",
        "    noise_added_images.append(img[i]+0.7*np.random.normal(0,1.0,(28,28,1)))\n",
        "  return noise_added_images\n"
      ],
      "execution_count": null,
      "outputs": []
    },
    {
      "cell_type": "code",
      "metadata": {
        "id": "4iOB03PHE7ML",
        "colab_type": "code",
        "colab": {}
      },
      "source": [
        "def statistical_filter(img):\n",
        "  filtered_images=[]\n",
        "  for i in range(len(img)):\n",
        "    my_img=img[i]\n",
        "    X=cv2.GaussianBlur(my_img,(5,5),cv2.BORDER_DEFAULT)\n",
        "    filtered_images.append(X)\n",
        "  return filtered_images"
      ],
      "execution_count": null,
      "outputs": []
    },
    {
      "cell_type": "code",
      "metadata": {
        "id": "pDvxSswwFE4A",
        "colab_type": "code",
        "colab": {}
      },
      "source": [
        "def cnn_denoiser(train_images_noisy,train_images):\n",
        "  dilation=[1,1,1,1,1,1,1]\n",
        "  filter_size=[32,32,64,64,128,64,64]\n",
        "  input_image= Input(shape=(28,28,1))\n",
        "  x= Conv2D(64,kernel_size=3,activation=\"relu\",dilation_rate=1,strides=(1,1),padding=\"same\")(input_image)\n",
        "  \n",
        "  for layers in range(7):\n",
        "    x=Conv2D(64,kernel_size=3, strides=(1,1),dilation_rate=1,padding=\"same\")(x)\n",
        "    x= BatchNormalization(axis=-1,epsilon=0.001 )(x)\n",
        "    x=Activation(\"relu\")(x)\n",
        "\n",
        "  x=Conv2D(1, kernel_size=3,strides=(1,1),dilation_rate=1,padding=\"same\")(x)\n",
        "  x=Subtract()([input_image,x])\n",
        "  model=Model(inputs=input_image, outputs=x)\n",
        "  #model.compile(optimizer=\"Adam\", loss=[\"mean_squared_logarithmic_error\"])\n",
        "  model.compile(optimizer=\"Adam\", loss=[\"mse\"])\n",
        "  \n",
        "  A=np.array(train_images_noisy)\n",
        "  B=np.array(train_images)\n",
        "  model.fit(A,B,epochs=2)\n",
        "  return model\n"
      ],
      "execution_count": null,
      "outputs": []
    },
    {
      "cell_type": "code",
      "metadata": {
        "id": "yWtiJd2sGQTn",
        "colab_type": "code",
        "colab": {}
      },
      "source": [
        "def encoder(input_img):\n",
        "    \"\"\"\n",
        "    Encoder function.\n",
        "    Arguments:\n",
        "      input_img: Input image, Tensor of shape (28, 28, 1)\n",
        "    \n",
        "    Returns: Encoded image, Tensor of shape (7, 7, 8)\n",
        "    \"\"\"\n",
        "    x = Conv2D(32, (3, 3), activation='relu', padding='same', name='encoder_conv1')(input_img)\n",
        "    x = MaxPool2D((2, 2), padding='same', name='encoder_pool1')(x)\n",
        "    x = Conv2D(16, (3, 3), activation='relu', padding='same', name='encoder_conv2')(x)\n",
        "    x = MaxPool2D((2, 2), padding='same', name='encoder_pool2')(x)\n",
        "    encoded = Conv2D(8, (3, 3), activation='relu', padding='same', name='encoder_conv3')(x)\n",
        "    return encoded\n",
        "\n",
        "\n",
        "def decoder(encoded):\n",
        "    \"\"\"\n",
        "    Decoder function.\n",
        "    Arguments:\n",
        "      encoded: Encoded image, Tensor of shape (7, 7, 8)\n",
        "    \n",
        "    Returns: Decoded images, Tensor of shape (28, 28, 1)\n",
        "    \"\"\"\n",
        "    x = Conv2D(8, (3, 3), activation='relu', padding='same', name='decoder_conv1')(encoded)\n",
        "    x = UpSampling2D((2, 2), name='decoder_upsample1')(x)\n",
        "    x = Conv2D(16, (3, 3), activation='relu', padding='same', name='decoder_conv2')(x)\n",
        "    x = UpSampling2D((2, 2), name='decoder_upsample2')(x)\n",
        "    x = Conv2D(32, (3, 3), activation='relu', padding='same', name='decoder_conv3')(x)\n",
        "    decoded = Conv2D(1, (3, 3), activation='sigmoid', padding='same', name='decoder_conv4')(x)\n",
        "    return decoded"
      ],
      "execution_count": null,
      "outputs": []
    },
    {
      "cell_type": "code",
      "metadata": {
        "id": "F6mQJm78GQcV",
        "colab_type": "code",
        "colab": {}
      },
      "source": [
        "def autoencoder_denoiser(x_train_noisy,x_train_expanded,x_test_noisy,x_test_expanded):\n",
        "  input_img = Input(shape=(28, 28, 1))\n",
        "\n",
        "  #create autoencoder model\n",
        "  autoencoder = Model(input_img, decoder(encoder(input_img)))\n",
        "  #complile model\n",
        "  autoencoder.compile(optimizer='adam', loss='binary_crossentropy')\n",
        "  #define callback for earlystopping to stop training if the validation loss does not decrese for 10 epochs \n",
        "  earlyStopping = EarlyStopping(monitor='val_loss', patience=2)\n",
        "\n",
        "  #define callback to save model weights if the validation loss improves\n",
        "  modelChkpt = ModelCheckpoint(filepath='best_weights.h5', monitor='val_loss', save_best_only=True) \n",
        "\n",
        "  #train model\n",
        "  train_history = autoencoder.fit(x_train_noisy, x_train_expanded,\n",
        "                epochs=15,\n",
        "                batch_size=128,\n",
        "                shuffle=True,\n",
        "                validation_data=(x_test_noisy, x_test_expanded),callbacks=[modelChkpt, earlyStopping])\n",
        "  return autoencoder\n",
        "  "
      ],
      "execution_count": null,
      "outputs": []
    },
    {
      "cell_type": "code",
      "metadata": {
        "id": "F9mHmJEkFPCc",
        "colab_type": "code",
        "colab": {}
      },
      "source": [
        "##classification model for noisy images\n",
        "def classification(train_images,train_labels,test_images,test_labels):\n",
        "  early_stop=[EarlyStopping(patience=2)]\n",
        "  model=Sequential()\n",
        "  model.add(Conv2D(32,kernel_size=3,activation='relu', input_shape=(28,28,1)))\n",
        "  model.add(Conv2D(128, kernel_size=3,activation='relu'))\n",
        "  model.add(Flatten())\n",
        "  model.add(Dense(10,activation='softmax'))\n",
        "\n",
        "  model.compile(optimizer='adam',loss='categorical_crossentropy',metrics=['accuracy'])\n",
        "\n",
        "  train_images=np.array(train_images)\n",
        "  test_images=np.array(test_images)\n",
        "  \n",
        "  model.fit(train_images,train_labels,validation_data=(test_images,test_labels),epochs=10)\n",
        "  return model"
      ],
      "execution_count": null,
      "outputs": []
    },
    {
      "cell_type": "code",
      "metadata": {
        "id": "ucXpxl1oFU31",
        "colab_type": "code",
        "colab": {}
      },
      "source": [
        "####our main space\n",
        "\n",
        "train_images, test_images, noisy_train_images, noisy_test_images= create_image_arrays(train_images_raw,test_images_raw)"
      ],
      "execution_count": null,
      "outputs": []
    },
    {
      "cell_type": "code",
      "metadata": {
        "id": "0cTttfC4I5I3",
        "colab_type": "code",
        "colab": {}
      },
      "source": [
        "train_labels, test_labesl=label_vectors()"
      ],
      "execution_count": null,
      "outputs": []
    },
    {
      "cell_type": "code",
      "metadata": {
        "id": "bNj5eAqxnNIa",
        "colab_type": "code",
        "colab": {
          "base_uri": "https://localhost:8080/",
          "height": 527
        },
        "outputId": "338502bb-caa9-4fa7-f275-d6c5550ac5b0"
      },
      "source": [
        "autoencoder=autoencoder_denoiser(np.array(noisy_train_images),train_images,np.array(noisy_test_images), test_images)"
      ],
      "execution_count": null,
      "outputs": [
        {
          "output_type": "stream",
          "text": [
            "Epoch 1/15\n",
            "469/469 [==============================] - 3s 7ms/step - loss: 0.1984 - val_loss: 0.1471\n",
            "Epoch 2/15\n",
            "469/469 [==============================] - 3s 6ms/step - loss: 0.1395 - val_loss: 0.1336\n",
            "Epoch 3/15\n",
            "469/469 [==============================] - 3s 6ms/step - loss: 0.1322 - val_loss: 0.1287\n",
            "Epoch 4/15\n",
            "469/469 [==============================] - 3s 6ms/step - loss: 0.1284 - val_loss: 0.1260\n",
            "Epoch 5/15\n",
            "469/469 [==============================] - 3s 7ms/step - loss: 0.1262 - val_loss: 0.1246\n",
            "Epoch 6/15\n",
            "469/469 [==============================] - 3s 7ms/step - loss: 0.1248 - val_loss: 0.1231\n",
            "Epoch 7/15\n",
            "469/469 [==============================] - 3s 7ms/step - loss: 0.1236 - val_loss: 0.1222\n",
            "Epoch 8/15\n",
            "469/469 [==============================] - 3s 6ms/step - loss: 0.1228 - val_loss: 0.1232\n",
            "Epoch 9/15\n",
            "469/469 [==============================] - 3s 6ms/step - loss: 0.1222 - val_loss: 0.1215\n",
            "Epoch 10/15\n",
            "469/469 [==============================] - 3s 6ms/step - loss: 0.1216 - val_loss: 0.1213\n",
            "Epoch 11/15\n",
            "469/469 [==============================] - 3s 6ms/step - loss: 0.1213 - val_loss: 0.1205\n",
            "Epoch 12/15\n",
            "469/469 [==============================] - 3s 6ms/step - loss: 0.1209 - val_loss: 0.1201\n",
            "Epoch 13/15\n",
            "469/469 [==============================] - 3s 6ms/step - loss: 0.1206 - val_loss: 0.1195\n",
            "Epoch 14/15\n",
            "469/469 [==============================] - 3s 6ms/step - loss: 0.1203 - val_loss: 0.1201\n",
            "Epoch 15/15\n",
            "469/469 [==============================] - 3s 6ms/step - loss: 0.1200 - val_loss: 0.1200\n"
          ],
          "name": "stdout"
        }
      ]
    },
    {
      "cell_type": "code",
      "metadata": {
        "id": "Qdvd5D49sWKy",
        "colab_type": "code",
        "colab": {}
      },
      "source": [
        "###journey to the moment of truth begins!\n",
        "filtered_images_train=statistical_filter(noisy_train_images)\n",
        "filtered_images_test=statistical_filter(noisy_test_images)"
      ],
      "execution_count": null,
      "outputs": []
    },
    {
      "cell_type": "code",
      "metadata": {
        "id": "Ubarz4y9sYPp",
        "colab_type": "code",
        "colab": {}
      },
      "source": [
        "output_train=autoencoder.predict(np.array(filtered_images_train))\n",
        "output_test=autoencoder.predict(np.array(filtered_images_test))"
      ],
      "execution_count": null,
      "outputs": []
    },
    {
      "cell_type": "code",
      "metadata": {
        "id": "DxFT68o4rb3T",
        "colab_type": "code",
        "colab": {
          "base_uri": "https://localhost:8080/",
          "height": 357
        },
        "outputId": "5cc4696d-db8d-42bd-8c71-45cfce7ad7e8"
      },
      "source": [
        "model_noisy=classification(train_images,train_labels,noisy_test_images,test_labesl)"
      ],
      "execution_count": null,
      "outputs": [
        {
          "output_type": "stream",
          "text": [
            "Epoch 1/10\n",
            "1875/1875 [==============================] - 7s 4ms/step - loss: 0.1120 - accuracy: 0.9667 - val_loss: 2.5498 - val_accuracy: 0.4626\n",
            "Epoch 2/10\n",
            "1875/1875 [==============================] - 7s 4ms/step - loss: 0.0399 - accuracy: 0.9877 - val_loss: 4.0873 - val_accuracy: 0.3489\n",
            "Epoch 3/10\n",
            "1875/1875 [==============================] - 7s 4ms/step - loss: 0.0244 - accuracy: 0.9922 - val_loss: 4.3364 - val_accuracy: 0.3235\n",
            "Epoch 4/10\n",
            "1875/1875 [==============================] - 7s 4ms/step - loss: 0.0155 - accuracy: 0.9948 - val_loss: 5.5161 - val_accuracy: 0.3190\n",
            "Epoch 5/10\n",
            "1875/1875 [==============================] - 7s 4ms/step - loss: 0.0112 - accuracy: 0.9962 - val_loss: 8.6699 - val_accuracy: 0.2523\n",
            "Epoch 6/10\n",
            "1875/1875 [==============================] - 7s 4ms/step - loss: 0.0079 - accuracy: 0.9973 - val_loss: 7.7881 - val_accuracy: 0.3012\n",
            "Epoch 7/10\n",
            "1875/1875 [==============================] - 7s 4ms/step - loss: 0.0060 - accuracy: 0.9980 - val_loss: 7.1441 - val_accuracy: 0.3563\n",
            "Epoch 8/10\n",
            "1875/1875 [==============================] - 7s 4ms/step - loss: 0.0056 - accuracy: 0.9980 - val_loss: 7.7328 - val_accuracy: 0.3343\n",
            "Epoch 9/10\n",
            "1875/1875 [==============================] - 7s 4ms/step - loss: 0.0039 - accuracy: 0.9987 - val_loss: 10.1290 - val_accuracy: 0.3145\n",
            "Epoch 10/10\n",
            "1875/1875 [==============================] - 7s 4ms/step - loss: 0.0047 - accuracy: 0.9984 - val_loss: 10.1569 - val_accuracy: 0.3206\n"
          ],
          "name": "stdout"
        }
      ]
    },
    {
      "cell_type": "code",
      "metadata": {
        "id": "GVBoWMOrsjTP",
        "colab_type": "code",
        "colab": {
          "base_uri": "https://localhost:8080/",
          "height": 357
        },
        "outputId": "ef74faa4-cb1d-483b-b4fe-c83bcc0a97db"
      },
      "source": [
        "\n",
        "model_denoised=classification(train_images,train_labels,output_test,test_labesl)\n"
      ],
      "execution_count": null,
      "outputs": [
        {
          "output_type": "stream",
          "text": [
            "Epoch 1/10\n",
            "1875/1875 [==============================] - 7s 4ms/step - loss: 0.1083 - accuracy: 0.9669 - val_loss: 0.6826 - val_accuracy: 0.7782\n",
            "Epoch 2/10\n",
            "1875/1875 [==============================] - 7s 4ms/step - loss: 0.0410 - accuracy: 0.9875 - val_loss: 0.6801 - val_accuracy: 0.7825\n",
            "Epoch 3/10\n",
            "1875/1875 [==============================] - 7s 4ms/step - loss: 0.0228 - accuracy: 0.9929 - val_loss: 0.6373 - val_accuracy: 0.7928\n",
            "Epoch 4/10\n",
            "1875/1875 [==============================] - 7s 4ms/step - loss: 0.0159 - accuracy: 0.9945 - val_loss: 0.7473 - val_accuracy: 0.7642\n",
            "Epoch 5/10\n",
            "1875/1875 [==============================] - 7s 4ms/step - loss: 0.0118 - accuracy: 0.9962 - val_loss: 0.7178 - val_accuracy: 0.7761\n",
            "Epoch 6/10\n",
            "1875/1875 [==============================] - 7s 4ms/step - loss: 0.0082 - accuracy: 0.9973 - val_loss: 0.9111 - val_accuracy: 0.7435\n",
            "Epoch 7/10\n",
            "1875/1875 [==============================] - 7s 4ms/step - loss: 0.0067 - accuracy: 0.9978 - val_loss: 0.7761 - val_accuracy: 0.7729\n",
            "Epoch 8/10\n",
            "1875/1875 [==============================] - 7s 4ms/step - loss: 0.0058 - accuracy: 0.9979 - val_loss: 0.8402 - val_accuracy: 0.7781\n",
            "Epoch 9/10\n",
            "1875/1875 [==============================] - 7s 4ms/step - loss: 0.0053 - accuracy: 0.9981 - val_loss: 0.8046 - val_accuracy: 0.7712\n",
            "Epoch 10/10\n",
            "1875/1875 [==============================] - 7s 4ms/step - loss: 0.0035 - accuracy: 0.9990 - val_loss: 1.1448 - val_accuracy: 0.7519\n"
          ],
          "name": "stdout"
        }
      ]
    },
    {
      "cell_type": "code",
      "metadata": {
        "id": "cd1IAaie2FNb",
        "colab_type": "code",
        "colab": {
          "base_uri": "https://localhost:8080/",
          "height": 357
        },
        "outputId": "fa4d044e-765e-4e20-d5e9-bb25f8390a99"
      },
      "source": [
        "model_idk=classification(output_train,train_labels,output_test,test_labesl)"
      ],
      "execution_count": null,
      "outputs": [
        {
          "output_type": "stream",
          "text": [
            "Epoch 1/10\n",
            "1875/1875 [==============================] - 7s 4ms/step - loss: 0.4858 - accuracy: 0.8404 - val_loss: 0.3592 - val_accuracy: 0.8812\n",
            "Epoch 2/10\n",
            "1875/1875 [==============================] - 7s 4ms/step - loss: 0.3580 - accuracy: 0.8817 - val_loss: 0.3213 - val_accuracy: 0.8915\n",
            "Epoch 3/10\n",
            "1875/1875 [==============================] - 7s 4ms/step - loss: 0.3134 - accuracy: 0.8942 - val_loss: 0.3130 - val_accuracy: 0.8981\n",
            "Epoch 4/10\n",
            "1875/1875 [==============================] - 7s 4ms/step - loss: 0.2814 - accuracy: 0.9051 - val_loss: 0.3115 - val_accuracy: 0.8995\n",
            "Epoch 5/10\n",
            "1875/1875 [==============================] - 7s 4ms/step - loss: 0.2530 - accuracy: 0.9144 - val_loss: 0.3138 - val_accuracy: 0.8997\n",
            "Epoch 6/10\n",
            "1875/1875 [==============================] - 7s 4ms/step - loss: 0.2266 - accuracy: 0.9219 - val_loss: 0.3126 - val_accuracy: 0.9007\n",
            "Epoch 7/10\n",
            "1875/1875 [==============================] - 7s 4ms/step - loss: 0.2007 - accuracy: 0.9319 - val_loss: 0.3300 - val_accuracy: 0.8996\n",
            "Epoch 8/10\n",
            "1875/1875 [==============================] - 7s 4ms/step - loss: 0.1768 - accuracy: 0.9391 - val_loss: 0.3706 - val_accuracy: 0.8922\n",
            "Epoch 9/10\n",
            "1875/1875 [==============================] - 7s 4ms/step - loss: 0.1526 - accuracy: 0.9479 - val_loss: 0.3746 - val_accuracy: 0.9006\n",
            "Epoch 10/10\n",
            "1875/1875 [==============================] - 7s 4ms/step - loss: 0.1323 - accuracy: 0.9540 - val_loss: 0.3963 - val_accuracy: 0.8932\n"
          ],
          "name": "stdout"
        }
      ]
    },
    {
      "cell_type": "code",
      "metadata": {
        "id": "QiDYg1kf2Wnw",
        "colab_type": "code",
        "colab": {
          "base_uri": "https://localhost:8080/",
          "height": 357
        },
        "outputId": "1f715a03-2fe2-488e-fb56-710a9d1b0a73"
      },
      "source": [
        "model_idk_again=classification(noisy_train_images,train_labels,noisy_test_images,test_labesl)"
      ],
      "execution_count": null,
      "outputs": [
        {
          "output_type": "stream",
          "text": [
            "Epoch 1/10\n",
            "1875/1875 [==============================] - 7s 4ms/step - loss: 0.3875 - accuracy: 0.8744 - val_loss: 0.2566 - val_accuracy: 0.9182\n",
            "Epoch 2/10\n",
            "1875/1875 [==============================] - 7s 4ms/step - loss: 0.2039 - accuracy: 0.9345 - val_loss: 0.2628 - val_accuracy: 0.9161\n",
            "Epoch 3/10\n",
            "1875/1875 [==============================] - 7s 4ms/step - loss: 0.1108 - accuracy: 0.9639 - val_loss: 0.3002 - val_accuracy: 0.9132\n",
            "Epoch 4/10\n",
            "1875/1875 [==============================] - 7s 4ms/step - loss: 0.0428 - accuracy: 0.9862 - val_loss: 0.4521 - val_accuracy: 0.9019\n",
            "Epoch 5/10\n",
            "1875/1875 [==============================] - 7s 4ms/step - loss: 0.0272 - accuracy: 0.9908 - val_loss: 0.4729 - val_accuracy: 0.9074\n",
            "Epoch 6/10\n",
            "1875/1875 [==============================] - 7s 4ms/step - loss: 0.0236 - accuracy: 0.9917 - val_loss: 0.4951 - val_accuracy: 0.9127\n",
            "Epoch 7/10\n",
            "1875/1875 [==============================] - 7s 4ms/step - loss: 0.0186 - accuracy: 0.9933 - val_loss: 0.5448 - val_accuracy: 0.9111\n",
            "Epoch 8/10\n",
            "1875/1875 [==============================] - 8s 4ms/step - loss: 0.0174 - accuracy: 0.9937 - val_loss: 0.5887 - val_accuracy: 0.9119\n",
            "Epoch 9/10\n",
            "1875/1875 [==============================] - 7s 4ms/step - loss: 0.0161 - accuracy: 0.9946 - val_loss: 0.6004 - val_accuracy: 0.9102\n",
            "Epoch 10/10\n",
            "1875/1875 [==============================] - 7s 4ms/step - loss: 0.0140 - accuracy: 0.9952 - val_loss: 0.7247 - val_accuracy: 0.9093\n"
          ],
          "name": "stdout"
        }
      ]
    },
    {
      "cell_type": "code",
      "metadata": {
        "id": "b2i92R3i26rw",
        "colab_type": "code",
        "colab": {
          "base_uri": "https://localhost:8080/",
          "height": 357
        },
        "outputId": "62f1b247-a701-4fdd-e595-fbe9ba6c2865"
      },
      "source": [
        "model_idks=classification(train_images,train_labels, test_images,test_labesl)"
      ],
      "execution_count": null,
      "outputs": [
        {
          "output_type": "stream",
          "text": [
            "Epoch 1/10\n",
            "1875/1875 [==============================] - 7s 4ms/step - loss: 0.1115 - accuracy: 0.9663 - val_loss: 0.0500 - val_accuracy: 0.9840\n",
            "Epoch 2/10\n",
            "1875/1875 [==============================] - 7s 4ms/step - loss: 0.0419 - accuracy: 0.9870 - val_loss: 0.0367 - val_accuracy: 0.9871\n",
            "Epoch 3/10\n",
            "1875/1875 [==============================] - 7s 4ms/step - loss: 0.0247 - accuracy: 0.9918 - val_loss: 0.0403 - val_accuracy: 0.9865\n",
            "Epoch 4/10\n",
            "1875/1875 [==============================] - 7s 4ms/step - loss: 0.0162 - accuracy: 0.9949 - val_loss: 0.0499 - val_accuracy: 0.9855\n",
            "Epoch 5/10\n",
            "1875/1875 [==============================] - 7s 4ms/step - loss: 0.0097 - accuracy: 0.9967 - val_loss: 0.0435 - val_accuracy: 0.9890\n",
            "Epoch 6/10\n",
            "1875/1875 [==============================] - 7s 4ms/step - loss: 0.0081 - accuracy: 0.9970 - val_loss: 0.0646 - val_accuracy: 0.9864\n",
            "Epoch 7/10\n",
            "1875/1875 [==============================] - 7s 4ms/step - loss: 0.0068 - accuracy: 0.9976 - val_loss: 0.0593 - val_accuracy: 0.9865\n",
            "Epoch 8/10\n",
            "1875/1875 [==============================] - 7s 4ms/step - loss: 0.0053 - accuracy: 0.9981 - val_loss: 0.0725 - val_accuracy: 0.9861\n",
            "Epoch 9/10\n",
            "1875/1875 [==============================] - 7s 4ms/step - loss: 0.0038 - accuracy: 0.9987 - val_loss: 0.0723 - val_accuracy: 0.9869\n",
            "Epoch 10/10\n",
            "1875/1875 [==============================] - 7s 4ms/step - loss: 0.0048 - accuracy: 0.9985 - val_loss: 0.0694 - val_accuracy: 0.9872\n"
          ],
          "name": "stdout"
        }
      ]
    },
    {
      "cell_type": "code",
      "metadata": {
        "id": "UqbR2_chtn8g",
        "colab_type": "code",
        "colab": {
          "base_uri": "https://localhost:8080/",
          "height": 34
        },
        "outputId": "c7cbca5d-74d5-422e-dbd5-2177dcd1e859"
      },
      "source": [
        "import tensorflow as tf\n",
        "im1 = tf.image.convert_image_dtype(noisy_test_images, tf.float32)\n",
        "im2 = tf.image.convert_image_dtype(filtered_images_test, tf.float32)\n",
        "psnr = tf.image.psnr(im1, im2, max_val=1.0)\n",
        "psnr_train = np.mean(psnr)\n",
        "print(psnr_train)"
      ],
      "execution_count": null,
      "outputs": [
        {
          "output_type": "stream",
          "text": [
            "3.0908508\n"
          ],
          "name": "stdout"
        }
      ]
    }
  ]
}