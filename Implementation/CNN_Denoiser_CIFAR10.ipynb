{
  "nbformat": 4,
  "nbformat_minor": 0,
  "metadata": {
    "kernelspec": {
      "display_name": "Python 3",
      "language": "python",
      "name": "python3"
    },
    "language_info": {
      "codemirror_mode": {
        "name": "ipython",
        "version": 3
      },
      "file_extension": ".py",
      "mimetype": "text/x-python",
      "name": "python",
      "nbconvert_exporter": "python",
      "pygments_lexer": "ipython3",
      "version": "3.7.6"
    },
    "colab": {
      "name": "CNN_Denoiser_CIFAR10.ipynb",
      "provenance": [],
      "collapsed_sections": []
    },
    "accelerator": "GPU"
  },
  "cells": [
    {
      "cell_type": "code",
      "metadata": {
        "id": "XZ4foPYXRo0V",
        "colab_type": "code",
        "colab": {}
      },
      "source": [
        "import numpy as np\n",
        "import pandas as pd\n",
        "import os \n",
        "import pickle\n"
      ],
      "execution_count": null,
      "outputs": []
    },
    {
      "cell_type": "code",
      "metadata": {
        "id": "BWYh73FoRo0Z",
        "colab_type": "code",
        "colab": {
          "base_uri": "https://localhost:8080/",
          "height": 34
        },
        "outputId": "f82c6ed4-b753-432d-bec7-e3b5fac63d79"
      },
      "source": [
        "#run classification model on the images\n",
        "##CNN based classifier\n",
        "import keras \n",
        "from keras.models import Sequential\n",
        "from keras.layers import Softmax\n",
        "from keras.datasets import cifar10"
      ],
      "execution_count": null,
      "outputs": [
        {
          "output_type": "stream",
          "text": [
            "Using TensorFlow backend.\n"
          ],
          "name": "stderr"
        }
      ]
    },
    {
      "cell_type": "code",
      "metadata": {
        "id": "vbu9WETcRo0c",
        "colab_type": "code",
        "colab": {
          "base_uri": "https://localhost:8080/",
          "height": 51
        },
        "outputId": "14742a1f-0079-4a7f-a4c8-b1877b6250d8"
      },
      "source": [
        "(train_images,train_label),(test_images,test_label)=cifar10.load_data()"
      ],
      "execution_count": null,
      "outputs": [
        {
          "output_type": "stream",
          "text": [
            "Downloading data from https://www.cs.toronto.edu/~kriz/cifar-10-python.tar.gz\n",
            "170500096/170498071 [==============================] - 11s 0us/step\n"
          ],
          "name": "stdout"
        }
      ]
    },
    {
      "cell_type": "code",
      "metadata": {
        "id": "CdMdSxXKRo0e",
        "colab_type": "code",
        "colab": {
          "base_uri": "https://localhost:8080/",
          "height": 51
        },
        "outputId": "fbf7295e-069b-41cf-a15d-0bea844dcc65"
      },
      "source": [
        "print(train_images.shape)\n",
        "print(train_label.shape)"
      ],
      "execution_count": null,
      "outputs": [
        {
          "output_type": "stream",
          "text": [
            "(50000, 32, 32, 3)\n",
            "(50000, 1)\n"
          ],
          "name": "stdout"
        }
      ]
    },
    {
      "cell_type": "code",
      "metadata": {
        "id": "4IfYxUr-Ro0h",
        "colab_type": "code",
        "colab": {}
      },
      "source": [
        "from keras.utils.np_utils import to_categorical  \n",
        "train_labels=to_categorical(train_label,num_classes=10)\n",
        "test_labels=to_categorical(test_label, num_classes=10)\n"
      ],
      "execution_count": null,
      "outputs": []
    },
    {
      "cell_type": "code",
      "metadata": {
        "id": "t4VrUBVLRo0j",
        "colab_type": "code",
        "colab": {
          "base_uri": "https://localhost:8080/",
          "height": 153
        },
        "outputId": "dc4b387e-1e10-47d6-f162-4f03d4b107b0"
      },
      "source": [
        "print(train_labels)\n",
        "print(train_labels.shape)"
      ],
      "execution_count": null,
      "outputs": [
        {
          "output_type": "stream",
          "text": [
            "[[0. 0. 0. ... 0. 0. 0.]\n",
            " [0. 0. 0. ... 0. 0. 1.]\n",
            " [0. 0. 0. ... 0. 0. 1.]\n",
            " ...\n",
            " [0. 0. 0. ... 0. 0. 1.]\n",
            " [0. 1. 0. ... 0. 0. 0.]\n",
            " [0. 1. 0. ... 0. 0. 0.]]\n",
            "(50000, 10)\n"
          ],
          "name": "stdout"
        }
      ]
    },
    {
      "cell_type": "code",
      "metadata": {
        "id": "5mtMufK8Ro0m",
        "colab_type": "code",
        "colab": {
          "base_uri": "https://localhost:8080/",
          "height": 34
        },
        "outputId": "bb439885-1644-430d-a9c8-fe1b4a13edb9"
      },
      "source": [
        "### adding gaussian noise\n",
        "import numpy as np\n",
        "image_shape=(32,32,3)\n",
        "mu=0\n",
        "sigma=0.5\n",
        "noise_factor=1.5\n",
        "\n",
        "\n",
        "gauss=np.random.normal(mu,sigma,image_shape)\n",
        "image=train_images[0]+gauss\n",
        "print(image.shape)\n"
      ],
      "execution_count": null,
      "outputs": [
        {
          "output_type": "stream",
          "text": [
            "(32, 32, 3)\n"
          ],
          "name": "stdout"
        }
      ]
    },
    {
      "cell_type": "code",
      "metadata": {
        "id": "b_mS6Uw2Ro0o",
        "colab_type": "code",
        "colab": {
          "base_uri": "https://localhost:8080/",
          "height": 266
        },
        "outputId": "03651f65-6187-4c5a-cebf-98533063aa9f"
      },
      "source": [
        "import cv2\n",
        "from matplotlib import pyplot as plt\n",
        "\n",
        "plt.imshow(image.astype('uint8'))\n",
        "plt.show()\n"
      ],
      "execution_count": null,
      "outputs": [
        {
          "output_type": "display_data",
          "data": {
            "image/png": "[encoded data removed]",
            "text/plain": [
              "<Figure size 432x288 with 1 Axes>"
            ]
          },
          "metadata": {
            "tags": [],
            "needs_background": "light"
          }
        }
      ]
    },
    {
      "cell_type": "code",
      "metadata": {
        "id": "-L4FqiD_P9kj",
        "colab_type": "code",
        "colab": {}
      },
      "source": [
        "def get_denoised_images():\n",
        "  train_images_denoised=[]\n",
        "  B=[]\n",
        "\n",
        "  for i in range(len(train_images_noisy)):\n",
        "      my_img=train_images_noisy[i]\n",
        "      X=cv2.GaussianBlur(my_img,(5,5),cv2.BORDER_DEFAULT)\n",
        "      B.append(X)\n",
        "    \n",
        "  A=np.array(B)   \n",
        "  Y=denoiser_model.predict(A)\n",
        "  train_images_denoised=np.array(Y)\n",
        "  print(train_images_denoised.shape)\n",
        "\n",
        "\n",
        "  test_images_denoised=[]\n",
        "  B=[]\n",
        "\n",
        "  for i in range(len(test_images_noisy)):\n",
        "      my_img=test_images_noisy[i]\n",
        "    \n",
        "      X=cv2.GaussianBlur(my_img,(5,5),cv2.BORDER_DEFAULT)\n",
        "      B.append(X)\n",
        "    \n",
        "  A=np.array(B)   \n",
        "  Y=denoiser_model.predict(A)\n",
        "  test_images_denoised=np.array(B)\n",
        "  print(test_images_denoised.shape)\n",
        "  return train_images_denoised, test_images_denoised"
      ],
      "execution_count": null,
      "outputs": []
    },
    {
      "cell_type": "code",
      "metadata": {
        "id": "MmPK2hHZRo0r",
        "colab_type": "code",
        "colab": {}
      },
      "source": [
        "#function to add noise\n",
        "def add_gauss(img):\n",
        "    return img+1.5*np.random.normal(0,0.1,(32,32,3))\n"
      ],
      "execution_count": null,
      "outputs": []
    },
    {
      "cell_type": "code",
      "metadata": {
        "id": "leDthxmwRo0t",
        "colab_type": "code",
        "colab": {}
      },
      "source": [
        "from tensorflow.keras.models import Sequential \n",
        "from tensorflow.keras.layers import Dense, Conv2D, Flatten, MaxPooling2D, BatchNormalization, Conv1D, Conv3D, Input, Activation, Subtract\n",
        "import tensorflow\n",
        "from tensorflow.keras import Model\n"
      ],
      "execution_count": null,
      "outputs": []
    },
    {
      "cell_type": "code",
      "metadata": {
        "id": "tNCegGAIRo0v",
        "colab_type": "code",
        "colab": {
          "base_uri": "https://localhost:8080/",
          "height": 34
        },
        "outputId": "ff55a4a0-2f65-4cc5-f246-6390f73669ac"
      },
      "source": [
        "train_images_noisy=[]\n",
        "train_flattened=[]\n",
        "\n",
        "for i in range(len(train_images)):\n",
        "    train_images_noisy.append(add_gauss(train_images[i]))\n",
        "print(len(train_images_noisy))\n",
        "\n",
        "test_images_noisy=[]\n",
        "for i in range(len(test_images)):\n",
        "    test_images_noisy.append(add_gauss(test_images[i]))\n",
        "    \n",
        "    "
      ],
      "execution_count": null,
      "outputs": [
        {
          "output_type": "stream",
          "text": [
            "50000\n"
          ],
          "name": "stdout"
        }
      ]
    },
    {
      "cell_type": "code",
      "metadata": {
        "id": "ZyDhIUrtAlTt",
        "colab_type": "code",
        "colab": {}
      },
      "source": [
        "def cnn_denoiser():\n",
        "  dilation=[2,3,4,3,2,1,1]\n",
        "  input_image= Input(shape=(32,32,3))\n",
        "  x= Conv2D(64,kernel_size=3,activation=\"relu\",dilation_rate=1,strides=(1,1),padding=\"same\")(input_image)\n",
        "  \n",
        "  for layers in range(5):\n",
        "    x=Conv2D(64,kernel_size=3, strides=(1,1),dilation_rate=dilation[layers],padding=\"same\")(x)\n",
        "    x= BatchNormalization(axis=-1,epsilon=0.001 )(x)\n",
        "    x=Activation(\"relu\")(x)\n",
        "\n",
        "  x=Conv2D(1, kernel_size=3,strides=(1,1),dilation_rate=1,padding=\"same\")(x)\n",
        "  x=Subtract()([input_image,x])\n",
        "  model=Model(inputs=input_image, outputs=x)\n",
        "  model.compile(optimizer=\"Adam\", loss=[\"mean_squared_logarithmic_error\"])\n",
        "  #model.compile(optimizer=\"Adam\", loss=[\"mse\"])\n",
        "  \n",
        "  A=np.array(train_images_noisy)\n",
        "  B=np.array(train_images)\n",
        "  model.fit(A,B,epochs=2)\n",
        "  return model\n"
      ],
      "execution_count": null,
      "outputs": []
    },
    {
      "cell_type": "code",
      "metadata": {
        "id": "Bs7xjQHoRo00",
        "colab_type": "code",
        "colab": {
          "base_uri": "https://localhost:8080/",
          "height": 85
        },
        "outputId": "894ad728-8a58-4cb4-c549-6834608cabc7"
      },
      "source": [
        "denoiser_model=cnn_denoiser()"
      ],
      "execution_count": null,
      "outputs": [
        {
          "output_type": "stream",
          "text": [
            "Epoch 1/2\n",
            "1563/1563 [==============================] - 25s 16ms/step - loss: 6.6998e-05\n",
            "Epoch 2/2\n",
            "1563/1563 [==============================] - 25s 16ms/step - loss: 4.9873e-05\n"
          ],
          "name": "stdout"
        }
      ]
    },
    {
      "cell_type": "code",
      "metadata": {
        "id": "ig20UB2fHYmc",
        "colab_type": "code",
        "colab": {
          "base_uri": "https://localhost:8080/",
          "height": 833
        },
        "outputId": "52d78e64-8883-47f4-b5d9-2aec0896060c"
      },
      "source": [
        "print(denoiser_model.summary())"
      ],
      "execution_count": null,
      "outputs": [
        {
          "output_type": "stream",
          "text": [
            "Model: \"model\"\n",
            "__________________________________________________________________________________________________\n",
            "Layer (type)                    Output Shape         Param #     Connected to                     \n",
            "==================================================================================================\n",
            "input_2 (InputLayer)            [(None, 32, 32, 3)]  0                                            \n",
            "__________________________________________________________________________________________________\n",
            "conv2d_1 (Conv2D)               (None, 32, 32, 64)   1792        input_2[0][0]                    \n",
            "__________________________________________________________________________________________________\n",
            "conv2d_2 (Conv2D)               (None, 32, 32, 64)   36928       conv2d_1[0][0]                   \n",
            "__________________________________________________________________________________________________\n",
            "batch_normalization (BatchNorma (None, 32, 32, 64)   256         conv2d_2[0][0]                   \n",
            "__________________________________________________________________________________________________\n",
            "activation (Activation)         (None, 32, 32, 64)   0           batch_normalization[0][0]        \n",
            "__________________________________________________________________________________________________\n",
            "conv2d_3 (Conv2D)               (None, 32, 32, 64)   36928       activation[0][0]                 \n",
            "__________________________________________________________________________________________________\n",
            "batch_normalization_1 (BatchNor (None, 32, 32, 64)   256         conv2d_3[0][0]                   \n",
            "__________________________________________________________________________________________________\n",
            "activation_1 (Activation)       (None, 32, 32, 64)   0           batch_normalization_1[0][0]      \n",
            "__________________________________________________________________________________________________\n",
            "conv2d_4 (Conv2D)               (None, 32, 32, 64)   36928       activation_1[0][0]               \n",
            "__________________________________________________________________________________________________\n",
            "batch_normalization_2 (BatchNor (None, 32, 32, 64)   256         conv2d_4[0][0]                   \n",
            "__________________________________________________________________________________________________\n",
            "activation_2 (Activation)       (None, 32, 32, 64)   0           batch_normalization_2[0][0]      \n",
            "__________________________________________________________________________________________________\n",
            "conv2d_5 (Conv2D)               (None, 32, 32, 64)   36928       activation_2[0][0]               \n",
            "__________________________________________________________________________________________________\n",
            "batch_normalization_3 (BatchNor (None, 32, 32, 64)   256         conv2d_5[0][0]                   \n",
            "__________________________________________________________________________________________________\n",
            "activation_3 (Activation)       (None, 32, 32, 64)   0           batch_normalization_3[0][0]      \n",
            "__________________________________________________________________________________________________\n",
            "conv2d_6 (Conv2D)               (None, 32, 32, 64)   36928       activation_3[0][0]               \n",
            "__________________________________________________________________________________________________\n",
            "batch_normalization_4 (BatchNor (None, 32, 32, 64)   256         conv2d_6[0][0]                   \n",
            "__________________________________________________________________________________________________\n",
            "activation_4 (Activation)       (None, 32, 32, 64)   0           batch_normalization_4[0][0]      \n",
            "__________________________________________________________________________________________________\n",
            "conv2d_7 (Conv2D)               (None, 32, 32, 1)    577         activation_4[0][0]               \n",
            "__________________________________________________________________________________________________\n",
            "subtract (Subtract)             (None, 32, 32, 3)    0           input_2[0][0]                    \n",
            "                                                                 conv2d_7[0][0]                   \n",
            "==================================================================================================\n",
            "Total params: 188,289\n",
            "Trainable params: 187,649\n",
            "Non-trainable params: 640\n",
            "__________________________________________________________________________________________________\n",
            "None\n"
          ],
          "name": "stdout"
        }
      ]
    },
    {
      "cell_type": "code",
      "metadata": {
        "id": "NXdidHGSRo02",
        "colab_type": "code",
        "colab": {
          "base_uri": "https://localhost:8080/",
          "height": 374
        },
        "outputId": "7328c36e-bfe8-4d20-d838-6b6d6e826eb9"
      },
      "source": [
        "##classification model for noisy images\n",
        "from tensorflow.keras.callbacks import EarlyStopping\n",
        "early_stop=[EarlyStopping(patience=2)]\n",
        "model=Sequential()\n",
        "model.add(Conv2D(32,kernel_size=3,activation='relu', input_shape=(32,32,3)))\n",
        "model.add(Conv2D(128, kernel_size=3,activation='relu'))\n",
        "model.add(Flatten())\n",
        "model.add(Dense(10,activation='softmax'))\n",
        "\n",
        "model.compile(optimizer='adam',loss='categorical_crossentropy',metrics=['accuracy'])\n",
        "\n",
        "train_images_noisy=np.array(train_images_noisy)\n",
        "test_images_noisy=np.array(test_images_noisy)\n",
        "\n",
        "model.fit(train_images,train_labels,validation_data=(test_images_noisy,test_labels),epochs=10)"
      ],
      "execution_count": null,
      "outputs": [
        {
          "output_type": "stream",
          "text": [
            "Epoch 1/10\n",
            "1563/1563 [==============================] - 9s 6ms/step - loss: 3.6458 - accuracy: 0.2981 - val_loss: 1.8745 - val_accuracy: 0.3461\n",
            "Epoch 2/10\n",
            "1563/1563 [==============================] - 9s 6ms/step - loss: 1.5687 - accuracy: 0.4488 - val_loss: 1.5711 - val_accuracy: 0.4425\n",
            "Epoch 3/10\n",
            "1563/1563 [==============================] - 9s 6ms/step - loss: 1.2702 - accuracy: 0.5575 - val_loss: 1.4803 - val_accuracy: 0.4959\n",
            "Epoch 4/10\n",
            "1563/1563 [==============================] - 9s 5ms/step - loss: 1.0435 - accuracy: 0.6400 - val_loss: 1.6884 - val_accuracy: 0.4560\n",
            "Epoch 5/10\n",
            "1563/1563 [==============================] - 8s 5ms/step - loss: 0.8240 - accuracy: 0.7190 - val_loss: 1.8843 - val_accuracy: 0.4982\n",
            "Epoch 6/10\n",
            "1563/1563 [==============================] - 9s 5ms/step - loss: 0.6378 - accuracy: 0.7836 - val_loss: 2.2806 - val_accuracy: 0.4751\n",
            "Epoch 7/10\n",
            "1563/1563 [==============================] - 9s 5ms/step - loss: 0.5005 - accuracy: 0.8350 - val_loss: 2.7138 - val_accuracy: 0.4807\n",
            "Epoch 8/10\n",
            "1563/1563 [==============================] - 8s 5ms/step - loss: 0.4123 - accuracy: 0.8670 - val_loss: 3.6726 - val_accuracy: 0.4667\n",
            "Epoch 9/10\n",
            "1563/1563 [==============================] - 9s 6ms/step - loss: 0.3532 - accuracy: 0.8910 - val_loss: 4.0944 - val_accuracy: 0.4865\n",
            "Epoch 10/10\n",
            "1563/1563 [==============================] - 9s 6ms/step - loss: 0.2921 - accuracy: 0.9129 - val_loss: 4.6758 - val_accuracy: 0.4776\n"
          ],
          "name": "stdout"
        },
        {
          "output_type": "execute_result",
          "data": {
            "text/plain": [
              "<tensorflow.python.keras.callbacks.History at 0x7f9b9b3efd30>"
            ]
          },
          "metadata": {
            "tags": []
          },
          "execution_count": 18
        }
      ]
    },
    {
      "cell_type": "code",
      "metadata": {
        "id": "TvIZoUBSM6wF",
        "colab_type": "code",
        "colab": {}
      },
      "source": [
        "print(len(train_images_noisy))"
      ],
      "execution_count": null,
      "outputs": []
    },
    {
      "cell_type": "code",
      "metadata": {
        "id": "2MuqPCE2Ro04",
        "colab_type": "code",
        "colab": {
          "base_uri": "https://localhost:8080/",
          "height": 51
        },
        "outputId": "afc2d236-4d9d-4d91-b7e7-900a0ada5c7d"
      },
      "source": [
        "train_images_denoised,test_images_denoised=get_denoised_images()"
      ],
      "execution_count": null,
      "outputs": [
        {
          "output_type": "stream",
          "text": [
            "(50000, 32, 32, 3)\n",
            "(10000, 32, 32, 3)\n"
          ],
          "name": "stdout"
        }
      ]
    },
    {
      "cell_type": "code",
      "metadata": {
        "id": "LbxgNwUeRo07",
        "colab_type": "code",
        "colab": {
          "base_uri": "https://localhost:8080/",
          "height": 34
        },
        "outputId": "ef4ba751-8cc2-4570-e396-fa3710101fba"
      },
      "source": [
        "()"
      ],
      "execution_count": null,
      "outputs": [
        {
          "output_type": "stream",
          "text": [
            "(10000, 32, 32, 3)\n"
          ],
          "name": "stdout"
        }
      ]
    },
    {
      "cell_type": "code",
      "metadata": {
        "id": "ytJtbuFtRo09",
        "colab_type": "code",
        "colab": {
          "base_uri": "https://localhost:8080/",
          "height": 374
        },
        "outputId": "a76ae0af-e96f-43c8-960c-bf44f67c3d0e"
      },
      "source": [
        "##classification model for denoised images\n",
        "model_denoised=Sequential()\n",
        "model_denoised.add(Conv2D(32,kernel_size=3,activation='relu', input_shape=(32,32,3)))\n",
        "model_denoised.add(Conv2D(128, kernel_size=3,activation='relu'))\n",
        "model_denoised.add(Flatten())\n",
        "model_denoised.add(Dense(10,activation='softmax'))\n",
        "\n",
        "model_denoised.compile(optimizer='adam',loss='categorical_crossentropy',metrics=['accuracy'])\n",
        "\n",
        "model_denoised.fit(train_images,train_labels,validation_data=(test_images_denoised,test_labels),epochs=10)"
      ],
      "execution_count": null,
      "outputs": [
        {
          "output_type": "stream",
          "text": [
            "Epoch 1/10\n",
            "1563/1563 [==============================] - 9s 6ms/step - loss: 4.0368 - accuracy: 0.2989 - val_loss: 2.1531 - val_accuracy: 0.2177\n",
            "Epoch 2/10\n",
            "1563/1563 [==============================] - 9s 6ms/step - loss: 1.5020 - accuracy: 0.4763 - val_loss: 2.0474 - val_accuracy: 0.2852\n",
            "Epoch 3/10\n",
            "1563/1563 [==============================] - 9s 6ms/step - loss: 1.1455 - accuracy: 0.6059 - val_loss: 2.1133 - val_accuracy: 0.2664\n",
            "Epoch 4/10\n",
            "1563/1563 [==============================] - 9s 5ms/step - loss: 0.8780 - accuracy: 0.7004 - val_loss: 2.1244 - val_accuracy: 0.2809\n",
            "Epoch 5/10\n",
            "1563/1563 [==============================] - 9s 5ms/step - loss: 0.6815 - accuracy: 0.7670 - val_loss: 2.1595 - val_accuracy: 0.2491\n",
            "Epoch 6/10\n",
            "1563/1563 [==============================] - 9s 6ms/step - loss: 0.5406 - accuracy: 0.8192 - val_loss: 2.2448 - val_accuracy: 0.2644\n",
            "Epoch 7/10\n",
            "1563/1563 [==============================] - 9s 6ms/step - loss: 0.4419 - accuracy: 0.8555 - val_loss: 2.2478 - val_accuracy: 0.2314\n",
            "Epoch 8/10\n",
            "1563/1563 [==============================] - 9s 6ms/step - loss: 0.3529 - accuracy: 0.8894 - val_loss: 2.4377 - val_accuracy: 0.2087\n",
            "Epoch 9/10\n",
            "1563/1563 [==============================] - 9s 5ms/step - loss: 0.3276 - accuracy: 0.9030 - val_loss: 2.6223 - val_accuracy: 0.2231\n",
            "Epoch 10/10\n",
            "1563/1563 [==============================] - 9s 5ms/step - loss: 0.3031 - accuracy: 0.9135 - val_loss: 2.4669 - val_accuracy: 0.2437\n"
          ],
          "name": "stdout"
        },
        {
          "output_type": "execute_result",
          "data": {
            "text/plain": [
              "<tensorflow.python.keras.callbacks.History at 0x7f9b9b2db898>"
            ]
          },
          "metadata": {
            "tags": []
          },
          "execution_count": 21
        }
      ]
    },
    {
      "cell_type": "code",
      "metadata": {
        "id": "K0y3JhN_R1am",
        "colab_type": "code",
        "colab": {}
      },
      "source": [
        "from math import log10, sqrt \n",
        "import cv2 \n",
        "import numpy as np \n",
        "def PSNR(original, compressed): \n",
        "    mse = np.mean((original - compressed) ** 2) \n",
        "    if(mse == 0):  # MSE is zero means no noise is present in the signal . \n",
        "                  # Therefore PSNR have no importance. \n",
        "        return 100\n",
        "    max_pixel = 255.0\n",
        "    psnr = 20 * log10(max_pixel / sqrt(mse)) \n",
        "    return psnr "
      ],
      "execution_count": null,
      "outputs": []
    },
    {
      "cell_type": "code",
      "metadata": {
        "id": "bDkHAtnMNKKm",
        "colab_type": "code",
        "colab": {
          "base_uri": "https://localhost:8080/",
          "height": 34
        },
        "outputId": "da3606a7-5126-4c8d-fa10-3d6552b8d256"
      },
      "source": [
        "print(PSNR(test_images_noisy,test_images_denoised))"
      ],
      "execution_count": null,
      "outputs": [
        {
          "output_type": "stream",
          "text": [
            "21.35195012629767\n"
          ],
          "name": "stdout"
        }
      ]
    }
  ]
}